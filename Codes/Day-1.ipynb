{
 "cells": [
  {
   "cell_type": "code",
   "execution_count": 3,
   "metadata": {},
   "outputs": [
    {
     "data": {
      "text/plain": [
       "Text(0.5,1,'Final')"
      ]
     },
     "execution_count": 3,
     "metadata": {},
     "output_type": "execute_result"
    },
    {
     "data": {
      "image/png": "[encoded data removed]",
      "text/plain": [
       "<Figure size 432x288 with 3 Axes>"
      ]
     },
     "metadata": {},
     "output_type": "display_data"
    }
   ],
   "source": [
    "import cv2 \n",
    "import numpy as np\n",
    "import matplotlib.pyplot as plt\n",
    "\n",
    "\n",
    "gray_im = cv2.imread('three.png')\n",
    "gray_im = cv2.cvtColor(gray_im, cv2.COLOR_BGR2GRAY)\n",
    "for i in range(0,5):\n",
    "    gray_im = cv2.medianBlur(gray_im,5)\n",
    "\n",
    "thresh = 127\n",
    "gray_im = cv2.threshold(gray_im, thresh, 255, cv2.THRESH_BINARY)[1]\n",
    "img  = gray_im\n",
    "img_orignal  = gray_im\n",
    "    \n",
    "kernel = np.ones((5,5),np.uint8)\n",
    "for i in range(0,10):\n",
    "    gray_im = cv2.erode(gray_im,kernel,iterations = 1)\n",
    "    \n",
    "img = img - gray_im\n",
    "\n",
    "fig = plt.figure()\n",
    "a = fig.add_subplot(1, 3, 1)\n",
    "imgplot = plt.imshow(img_orignal, cmap = 'gray')\n",
    "a.set_title('img_orignal')\n",
    "\n",
    "a = fig.add_subplot(1, 3, 2)\n",
    "imgplot = plt.imshow(gray_im, cmap = 'gray')\n",
    "imgplot.set_clim(0.0, 0.7)\n",
    "a.set_title('Intermediat')\n",
    "\n",
    "a = fig.add_subplot(1, 3, 3)\n",
    "imgplot = plt.imshow(img, cmap = 'gray')\n",
    "a.set_title('Final')"
   ]
  },
  {
   "cell_type": "code",
   "execution_count": null,
   "metadata": {},
   "outputs": [],
   "source": []
  }
 ],
 "metadata": {
  "kernelspec": {
   "display_name": "Python 3",
   "language": "python",
   "name": "python3"
  },
  "language_info": {
   "codemirror_mode": {
    "name": "ipython",
    "version": 3
   },
   "file_extension": ".py",
   "mimetype": "text/x-python",
   "name": "python",
   "nbconvert_exporter": "python",
   "pygments_lexer": "ipython3",
   "version": "3.6.6"
  }
 },
 "nbformat": 4,
 "nbformat_minor": 2
}
